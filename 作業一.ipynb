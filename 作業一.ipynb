{
  "nbformat": 4,
  "nbformat_minor": 0,
  "metadata": {
    "colab": {
      "provenance": [],
      "include_colab_link": true
    },
    "kernelspec": {
      "name": "python3",
      "display_name": "Python 3"
    },
    "language_info": {
      "name": "python"
    }
  },
  "cells": [
    {
      "cell_type": "markdown",
      "metadata": {
        "id": "view-in-github",
        "colab_type": "text"
      },
      "source": [
        "<a href=\"https://colab.research.google.com/github/wendychen215/aop113b/blob/main/%E4%BD%9C%E6%A5%AD%E4%B8%80.ipynb\" target=\"_parent\"><img src=\"https://colab.research.google.com/assets/colab-badge.svg\" alt=\"Open In Colab\"/></a>"
      ]
    },
    {
      "cell_type": "markdown",
      "source": [
        "# HW02 Web Crawler"
      ],
      "metadata": {
        "id": "eo72fZ0YlURV"
      }
    },
    {
      "cell_type": "markdown",
      "source": [
        "## 題目"
      ],
      "metadata": {
        "id": "gUsBAopRJMJD"
      }
    },
    {
      "cell_type": "markdown",
      "source": [
        "**最近有甚麼好看的電影!!!**"
      ],
      "metadata": {
        "id": "pDHhflLyJRgS"
      }
    },
    {
      "cell_type": "markdown",
      "source": [
        "## 摘要"
      ],
      "metadata": {
        "id": "hbqT3pl04Hl9"
      }
    },
    {
      "cell_type": "markdown",
      "source": [
        "本報告旨在透過網路爬蟲技術，收集威秀影城網站熱映中的電影資料提供參考。"
      ],
      "metadata": {
        "id": "eweMw-wh4TC0"
      }
    },
    {
      "cell_type": "markdown",
      "source": [
        "## 引言"
      ],
      "metadata": {
        "id": "9nb1aHAM4XiE"
      }
    },
    {
      "cell_type": "markdown",
      "source": [
        "看電影作為重要的娛樂之一，最近有甚麼好看的電影變成很重要的問題。\n",
        "\n",
        "本次爬蟲的目標是收集威秀影城網站熱映中的電影資料提供參考。"
      ],
      "metadata": {
        "id": "0ZmT034r5F9R"
      }
    },
    {
      "cell_type": "markdown",
      "source": [
        "## 方法"
      ],
      "metadata": {
        "id": "8YMFd39F4n4l"
      }
    },
    {
      "cell_type": "markdown",
      "source": [
        "- 目標網站描述\n",
        "  - 目標網站：威秀影城頁面。  \n",
        "  https://www.vscinemas.com.tw/film/index.aspx\n",
        "  - 頁面結構：包含電影中英文名稱、上映日期等資訊。\n",
        "\n",
        "- 工具與技術\n",
        "  - 使用 Python 的 `requests` 庫發送 HTTP 請求。\n",
        "  - 使用 `BeautifulSoup` 解析 HTML。\n",
        "  - 使用 Google Chrome 開發者工具取得 AJAX 資料。\n"
      ],
      "metadata": {
        "id": "zkix6XqZ429E"
      }
    },
    {
      "cell_type": "code",
      "source": [
        "import requests\n",
        "from bs4 import BeautifulSoup\n",
        "import pandas as pd\n",
        "from IPython.display import Image, display\n",
        "url = 'https://www.vscinemas.com.tw/film/index.aspx'\n",
        "headers = {'user-agent': 'Mozilla/5.0 (Windows NT 10.0; Win64; x64) AppleWebKit/537.36 (KHTML, like Gecko) Chrome/129.0.0.0 Safari/537.36'}\n",
        "response = requests.get(url, headers=headers)\n",
        "response.raise_for_status()\n",
        "soup = BeautifulSoup(response.text, 'lxml')\n",
        "movie_data = []\n",
        "movie_list_ul = soup.find('ul', class_='movieList')\n",
        "if movie_list_ul:\n",
        "    movie_items = movie_list_ul.find_all('li')\n",
        "    if movie_items:\n",
        "        for item in movie_items:\n",
        "            title_tag = item.select_one('section.infoArea h2 a')\n",
        "            title = title_tag.text.strip() if title_tag else 'N/A'\n",
        "            english_title_tag = item.select_one('section.infoArea h3')\n",
        "            english_title = english_title_tag.text.strip() if english_title_tag else 'N/A'\n",
        "            date_tag = item.select_one('section.infoArea time')\n",
        "            release_date = date_tag.text.strip() if date_tag else 'N/A'\n",
        "            print(f\"中文名稱: {title}\")\n",
        "            print(f\"英文名稱: {english_title}\")\n",
        "            print(f\"上映日期: {release_date}\")\n",
        "            print(\"-\" * 20)\n",
        "            movie_info = {\n",
        "                '中文名稱': title,\n",
        "                '英文名稱': english_title,\n",
        "                '上映日期': release_date,\n",
        "            }\n",
        "            movie_data.append(movie_info)\n",
        "    else:\n",
        "        print(\"未找到電影項目\")\n",
        "else:\n",
        "    print(\"未找到電影清單\")"
      ],
      "metadata": {
        "id": "nhxSxMxdNMg6"
      },
      "execution_count": null,
      "outputs": []
    },
    {
      "cell_type": "markdown",
      "source": [
        "## 結果\n"
      ],
      "metadata": {
        "id": "mHEo_iad7QMa"
      }
    },
    {
      "cell_type": "markdown",
      "source": [
        "- 數據存儲方式\n",
        "  - 將數據存儲為 CSV 格式，方便後續分析。"
      ],
      "metadata": {
        "id": "Fx3h33cU8n8t"
      }
    },
    {
      "cell_type": "code",
      "source": [
        "# 展示資料程式碼\n",
        "df = pd.DataFrame(movie_data)\n",
        "df.to_csv('vscinemas_movies.csv', index=False, encoding='utf-8-sig')\n",
        "print(\"資料已儲存到 vscinemas_movies.csv\")"
      ],
      "metadata": {
        "id": "jsLbLuSa8mnY",
        "colab": {
          "base_uri": "https://localhost:8080/"
        },
        "outputId": "4a4e2f0a-a802-4cdd-feec-42d4129ce32a"
      },
      "execution_count": 24,
      "outputs": [
        {
          "output_type": "stream",
          "name": "stdout",
          "text": [
            "資料已儲存到 vscinemas_movies.csv\n"
          ]
        }
      ]
    },
    {
      "cell_type": "markdown",
      "source": [
        "## 問題與挑戰"
      ],
      "metadata": {
        "id": "6yHFop_b73gY"
      }
    },
    {
      "cell_type": "markdown",
      "source": [
        "- 資料、技術有限  \n",
        "    想進一步知道電影票價、預告等等資訊，但不會進一步進入下一個網頁做蒐集。\n",
        "- 照片無法顯示  \n",
        "    本來想顯示照片，但不知道為什麼顯示不出來，只會有一個小小的圖片圖案，所以作罷。"
      ],
      "metadata": {
        "id": "D6roihku8PBu"
      }
    },
    {
      "cell_type": "markdown",
      "source": [
        "## 結論"
      ],
      "metadata": {
        "id": "VeQHgVuqqD3J"
      }
    },
    {
      "cell_type": "markdown",
      "source": [
        "\n",
        "- 成功獲取收集威秀影城網站熱映中的電影資料提供參考。\n",
        "- 未來可進一步獲取其他資訊提供更多資料。"
      ],
      "metadata": {
        "id": "Baea2g7J9DAL"
      }
    },
    {
      "cell_type": "markdown",
      "source": [
        "## 參考文獻"
      ],
      "metadata": {
        "id": "j5hI_9QW9dTt"
      }
    },
    {
      "cell_type": "markdown",
      "source": [
        "* [威秀影城](https://www.vscinemas.com.tw/film/index.aspx)"
      ],
      "metadata": {
        "id": "eLFvp2Fk9fSa"
      }
    }
  ]
}