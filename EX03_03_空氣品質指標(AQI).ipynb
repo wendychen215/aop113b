{
  "nbformat": 4,
  "nbformat_minor": 0,
  "metadata": {
    "colab": {
      "provenance": [],
      "authorship_tag": "ABX9TyM2PYYybzxhAnoyGR+dCXUZ",
      "include_colab_link": true
    },
    "kernelspec": {
      "name": "python3",
      "display_name": "Python 3"
    },
    "language_info": {
      "name": "python"
    }
  },
  "cells": [
    {
      "cell_type": "markdown",
      "metadata": {
        "id": "view-in-github",
        "colab_type": "text"
      },
      "source": [
        "<a href=\"https://colab.research.google.com/github/wendychen215/aop113b/blob/main/EX03_03_%E7%A9%BA%E6%B0%A3%E5%93%81%E8%B3%AA%E6%8C%87%E6%A8%99(AQI).ipynb\" target=\"_parent\"><img src=\"https://colab.research.google.com/assets/colab-badge.svg\" alt=\"Open In Colab\"/></a>"
      ]
    },
    {
      "cell_type": "code",
      "execution_count": null,
      "metadata": {
        "id": "V5PA8ZdssD9N"
      },
      "outputs": [],
      "source": [
        "import pandas as pd\n",
        "url = 'https://data.moenv.gov.tw/api/v2/aqx_p_432?api_key=9e565f9a-84dd-4e79-9097-d403cae1ea75&limit=1000&sort=ImportDate%20desc&format=CSV '\n",
        "df=pd.read_csv(url)\n",
        "df.head()"
      ]
    },
    {
      "cell_type": "markdown",
      "source": [
        "留下需要的欄位('sitename', 'county','pollutant', 'status', 'aqi')"
      ],
      "metadata": {
        "id": "MF331OaHsr-1"
      }
    },
    {
      "cell_type": "code",
      "source": [
        "df=df[['sitename', 'county', 'pollutant', 'status', 'aqi']]\n",
        "df"
      ],
      "metadata": {
        "id": "OVgIYfb7s14i"
      },
      "execution_count": null,
      "outputs": []
    },
    {
      "cell_type": "markdown",
      "source": [
        "請找出空氣品質不良的測站 (aqi > 100)"
      ],
      "metadata": {
        "id": "ryu7-7LxtBn4"
      }
    },
    {
      "cell_type": "code",
      "source": [
        "condition = df ['aqi'] > 100\n",
        "df [condition]"
      ],
      "metadata": {
        "id": "Ug4CZqyXtCHw"
      },
      "execution_count": null,
      "outputs": []
    },
    {
      "cell_type": "markdown",
      "source": [
        "查詢空氣污染指標物 (pollutant)有那些?"
      ],
      "metadata": {
        "id": "ZXoHCQNutP-G"
      }
    },
    {
      "cell_type": "code",
      "source": [
        "df['pollutant'].unique()"
      ],
      "metadata": {
        "id": "8dGsfGh2tQYG"
      },
      "execution_count": null,
      "outputs": []
    },
    {
      "cell_type": "markdown",
      "source": [
        "請找出高雄市的測站資料"
      ],
      "metadata": {
        "id": "C_Php9qqtSnG"
      }
    },
    {
      "cell_type": "code",
      "source": [
        "condition = df['county'] == '高雄市'\n",
        "df[condition]"
      ],
      "metadata": {
        "id": "W9pYOUPMtUPG"
      },
      "execution_count": null,
      "outputs": []
    },
    {
      "cell_type": "markdown",
      "source": [
        "計算各縣市的平均 AQI"
      ],
      "metadata": {
        "id": "nIqUeTeqtjzk"
      }
    },
    {
      "cell_type": "code",
      "source": [
        "df.groupby('county') ['aqi'].mean().sort_values (ascending=False)"
      ],
      "metadata": {
        "id": "AAVrAnwztkKs"
      },
      "execution_count": null,
      "outputs": []
    }
  ]
}