{
  "nbformat": 4,
  "nbformat_minor": 0,
  "metadata": {
    "colab": {
      "provenance": [],
      "authorship_tag": "ABX9TyNZZw1UX0oQ1VjLvvuGIcCV",
      "include_colab_link": true
    },
    "kernelspec": {
      "name": "python3",
      "display_name": "Python 3"
    },
    "language_info": {
      "name": "python"
    }
  },
  "cells": [
    {
      "cell_type": "markdown",
      "metadata": {
        "id": "view-in-github",
        "colab_type": "text"
      },
      "source": [
        "<a href=\"https://colab.research.google.com/github/wendychen215/aop113b/blob/main/EX01_05_Caesar_Cipher_Encode_and_decode.ipynb\" target=\"_parent\"><img src=\"https://colab.research.google.com/assets/colab-badge.svg\" alt=\"Open In Colab\"/></a>"
      ]
    },
    {
      "cell_type": "code",
      "source": [
        "#用戶輸入 1.加解密和金鑰 2.文字\n",
        "mm=input(\"d是解e是加，輸入加解密及金鑰:\")\n",
        "txt=input(\"請輸入文字:\")\n",
        "#拆分加解密和金鑰\n",
        "mode=mm[0]\n",
        "key=int(mm[1:])\n",
        "txt2=\"\"\n",
        "#加密\n",
        "if mode==\"d\":\n",
        "  for i in txt:\n",
        "    ni=ord(i)-key\n",
        "    txt2=txt2+chr(ni)\n",
        "#解密\n",
        "else:\n",
        "  for i in txt:\n",
        "    ni=ord(i)+key\n",
        "    txt2=txt2+chr(ni)\n",
        "print(txt2)\n",
        "\n",
        "\n"
      ],
      "metadata": {
        "id": "A335b78SFPPn"
      },
      "execution_count": null,
      "outputs": []
    }
  ]
}