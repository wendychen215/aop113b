{
  "nbformat": 4,
  "nbformat_minor": 0,
  "metadata": {
    "colab": {
      "provenance": [],
      "authorship_tag": "ABX9TyO8KZWBElbpj/XENex/aIzm",
      "include_colab_link": true
    },
    "kernelspec": {
      "name": "python3",
      "display_name": "Python 3"
    },
    "language_info": {
      "name": "python"
    }
  },
  "cells": [
    {
      "cell_type": "markdown",
      "metadata": {
        "id": "view-in-github",
        "colab_type": "text"
      },
      "source": [
        "<a href=\"https://colab.research.google.com/github/wendychen215/aop113b/blob/main/EX03_02_%E5%85%AC%E5%8F%B8%E8%96%AA%E8%B3%87%E6%A6%82%E6%B3%81%E2%85%A1.ipynb\" target=\"_parent\"><img src=\"https://colab.research.google.com/assets/colab-badge.svg\" alt=\"Open In Colab\"/></a>"
      ]
    },
    {
      "cell_type": "code",
      "execution_count": null,
      "metadata": {
        "id": "g0d_uO8llPEd"
      },
      "outputs": [],
      "source": [
        "import pandas as pd\n",
        "data = {\n",
        "    'ID': [101, 102, 103, 104, 105, 106, 107, 108, 109, 110],\n",
        "    'Name': ['Alice', 'Bob', 'Charlie', 'David', 'Eve', 'Frank', 'Grace', 'Helen', 'Ivy', 'Jack'],\n",
        "    'Age': [125, 30, 35, 40, 22, 29, 38, 27, 33, 31],\n",
        "    'City': ['New York', 'Los Angeles', 'Chicago', 'Houston', 'Phoenix', 'Philadelphia', 'San Antonio', 'San Diego', 'Dallas', 'San Jose'],\n",
        "    'Salary': [150000, 60000, 75000, 80000, 45000, 62000, 72000, 58000, 69000, 71800],\n",
        "    'Department': ['IT', 'HR', 'Finance', 'Harketing', 'IT', 'HR', 'Finance', 'Marketing', 'IT', 'Finance']\n",
        "}\n",
        "\n",
        "df=pd.DataFrame(data)\n",
        "df"
      ]
    },
    {
      "cell_type": "markdown",
      "source": [
        "將薪水高於第3四分位數的人員標示為高薪"
      ],
      "metadata": {
        "id": "UiCGGi7Snyy6"
      }
    },
    {
      "cell_type": "code",
      "source": [
        "hs=df[ 'Salary'].quantile(0.75)\n",
        "hs"
      ],
      "metadata": {
        "id": "JXzz6HNinzbq"
      },
      "execution_count": null,
      "outputs": []
    },
    {
      "cell_type": "code",
      "source": [
        "df[ 'HighSalary'] = df['Salary'].apply(lambda x: True if x> hs else False)\n",
        "df"
      ],
      "metadata": {
        "id": "bOssp2WAn6ao"
      },
      "execution_count": null,
      "outputs": []
    },
    {
      "cell_type": "code",
      "source": [
        "df[ df['HighSalary']]"
      ],
      "metadata": {
        "id": "qzYh6iO2n6SY"
      },
      "execution_count": null,
      "outputs": []
    },
    {
      "cell_type": "markdown",
      "source": [
        "刪除高薪欄位"
      ],
      "metadata": {
        "id": "77YfIc1soGkP"
      }
    },
    {
      "cell_type": "code",
      "source": [
        "df=df.drop(columns=['HighSalary'])\n",
        "df"
      ],
      "metadata": {
        "id": "R6dA6Il2oG8u"
      },
      "execution_count": null,
      "outputs": []
    },
    {
      "cell_type": "markdown",
      "source": [
        "使用 pd.concat()新增資料(資料集)"
      ],
      "metadata": {
        "id": "NdA_Kc4eoh1k"
      }
    },
    {
      "cell_type": "code",
      "source": [
        "new_data = [\n",
        "    {'ID': 111, 'Name': 'Kevin', 'Age': 28, 'City': 'Austin', 'Salary': None, 'Department': 'IT'},\n",
        "    {'ID': 112, 'Name': 'Lily', 'Age': 26, 'City': 'Seattle', 'Salary': 55000, 'Department': 'Marketing'},\n",
        "    {'ID': 112, 'Name': 'Lily', 'Age': 26, 'City': 'Seattle', 'Salary': 55000, 'Department': 'Marketing'}\n",
        "]\n",
        "new_df=pd. DataFrame (new_data)\n",
        "new_df"
      ],
      "metadata": {
        "id": "0aaCOtE1oi1L"
      },
      "execution_count": null,
      "outputs": []
    },
    {
      "cell_type": "code",
      "source": [
        "df=pd.concat([df, new_df], ignore_index=True)\n",
        "df"
      ],
      "metadata": {
        "id": "_BIzKwxZo2t6"
      },
      "execution_count": null,
      "outputs": []
    },
    {
      "cell_type": "markdown",
      "source": [
        "找出空值的資料列,並填充空值(薪水依該部門平均值)"
      ],
      "metadata": {
        "id": "I5tziGrlo9Py"
      }
    },
    {
      "cell_type": "code",
      "source": [
        "df.isnull().sum()"
      ],
      "metadata": {
        "id": "FSJx5y5Ko9mq"
      },
      "execution_count": null,
      "outputs": []
    },
    {
      "cell_type": "code",
      "source": [
        "avg_dp=df.groupby ('Department') ['Salary'].mean()\n",
        "avg_dp"
      ],
      "metadata": {
        "id": "o4iFi_vmpCqA"
      },
      "execution_count": null,
      "outputs": []
    },
    {
      "cell_type": "code",
      "source": [
        " for i in range(len (df)):\n",
        "   if pd.isnull(df.loc[i, 'Salary']):\n",
        "    df.loc[i, 'Salary'] = avg_dp[ df.loc[i, 'Department']]\n",
        " df"
      ],
      "metadata": {
        "id": "b5oAEsR_pKpo"
      },
      "execution_count": null,
      "outputs": []
    },
    {
      "cell_type": "markdown",
      "source": [
        "刪除重複資料"
      ],
      "metadata": {
        "id": "7OC_600-pX3m"
      }
    },
    {
      "cell_type": "code",
      "source": [
        "df=df.drop_duplicates()\n",
        "df"
      ],
      "metadata": {
        "id": "QxcIGFOEpYbG"
      },
      "execution_count": null,
      "outputs": []
    },
    {
      "cell_type": "markdown",
      "source": [
        "新增欄位 'NewSalary',如果薪水小於平均值則薪水加500,否則維持原薪水;新增欄位'RankSalary'填入薪水排名。"
      ],
      "metadata": {
        "id": "bc4hSORPpfoU"
      }
    },
    {
      "cell_type": "code",
      "source": [
        "avg_salary = df['Salary'].mean()\n",
        "avg_salary"
      ],
      "metadata": {
        "id": "2elEcYgJpgeE"
      },
      "execution_count": null,
      "outputs": []
    },
    {
      "cell_type": "code",
      "source": [
        "df[ 'NewSalary'] = df['Salary'].apply(lambda x: x + 500 if x < avg_salary else x)\n",
        "df"
      ],
      "metadata": {
        "id": "SnwARmh2pobc"
      },
      "execution_count": null,
      "outputs": []
    },
    {
      "cell_type": "code",
      "source": [
        "df['RankSalary'] = df['Salary'].rank (ascending=False)\n",
        "df"
      ],
      "metadata": {
        "id": "6XGYTozZpoR9"
      },
      "execution_count": null,
      "outputs": []
    },
    {
      "cell_type": "code",
      "source": [
        "df[['Salary', 'NewSalary', 'RankSalary']] = df[['Salary', 'NewSalary', 'RankSalary']].astype(int)\n",
        "df"
      ],
      "metadata": {
        "id": "m-AVpeCvpzAj"
      },
      "execution_count": null,
      "outputs": []
    }
  ]
}