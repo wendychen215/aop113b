{
  "nbformat": 4,
  "nbformat_minor": 0,
  "metadata": {
    "colab": {
      "provenance": [],
      "authorship_tag": "ABX9TyPZTDJGDF49iRJsuRw0lcWe",
      "include_colab_link": true
    },
    "kernelspec": {
      "name": "python3",
      "display_name": "Python 3"
    },
    "language_info": {
      "name": "python"
    }
  },
  "cells": [
    {
      "cell_type": "markdown",
      "metadata": {
        "id": "view-in-github",
        "colab_type": "text"
      },
      "source": [
        "<a href=\"https://colab.research.google.com/github/wendychen215/aop113b/blob/main/EX02_05_PTT_Gossiping.ipynb\" target=\"_parent\"><img src=\"https://colab.research.google.com/assets/colab-badge.svg\" alt=\"Open In Colab\"/></a>"
      ]
    },
    {
      "cell_type": "code",
      "execution_count": 85,
      "metadata": {
        "colab": {
          "base_uri": "https://localhost:8080/"
        },
        "id": "x-u_ZljTHUTs",
        "outputId": "c0095b38-2b2b-46b3-d3b8-12758d18dc79"
      },
      "outputs": [
        {
          "output_type": "execute_result",
          "data": {
            "text/plain": [
              "200"
            ]
          },
          "metadata": {},
          "execution_count": 85
        }
      ],
      "source": [
        "import requests\n",
        "from bs4 import BeautifulSoup\n",
        "url = 'https://www.ptt.cc/bbs/movie/index.html'\n",
        "response = requests.get(url)\n",
        "response.status_code"
      ]
    },
    {
      "cell_type": "code",
      "source": [
        "soup= BeautifulSoup(response.text,'lxml')\n",
        "soup.title"
      ],
      "metadata": {
        "colab": {
          "base_uri": "https://localhost:8080/"
        },
        "id": "vVtfhuUYH6MX",
        "outputId": "0b570ecc-2d6d-43fc-d556-b24aaa109564"
      },
      "execution_count": 86,
      "outputs": [
        {
          "output_type": "execute_result",
          "data": {
            "text/plain": [
              "<title>看板 movie 文章列表 - 批踢踢實業坊</title>"
            ]
          },
          "metadata": {},
          "execution_count": 86
        }
      ]
    },
    {
      "cell_type": "code",
      "source": [
        "for atcl in soup.find_all('div', class_='r-ent'):\n",
        "  ttle=atcl.find('div', class_='title').text\n",
        "  href='https://www.ptt.cc'+atcl.find('div', class_='title').a.get('href')\n",
        "  date=atcl.find('div', class_='date').text\n",
        "  print(date, href, ttle)"
      ],
      "metadata": {
        "colab": {
          "base_uri": "https://localhost:8080/",
          "height": 211
        },
        "id": "W5bq4QEPIfZE",
        "outputId": "f9e85cec-24ce-4afb-d3db-effe185599c9"
      },
      "execution_count": 115,
      "outputs": [
        {
          "output_type": "error",
          "ename": "AttributeError",
          "evalue": "'NoneType' object has no attribute 'get'",
          "traceback": [
            "\u001b[0;31m---------------------------------------------------------------------------\u001b[0m",
            "\u001b[0;31mAttributeError\u001b[0m                            Traceback (most recent call last)",
            "\u001b[0;32m<ipython-input-115-e5f7803291a8>\u001b[0m in \u001b[0;36m<cell line: 0>\u001b[0;34m()\u001b[0m\n\u001b[1;32m      1\u001b[0m \u001b[0;32mfor\u001b[0m \u001b[0matcl\u001b[0m \u001b[0;32min\u001b[0m \u001b[0msoup\u001b[0m\u001b[0;34m.\u001b[0m\u001b[0mfind_all\u001b[0m\u001b[0;34m(\u001b[0m\u001b[0;34m'div'\u001b[0m\u001b[0;34m,\u001b[0m \u001b[0mclass_\u001b[0m\u001b[0;34m=\u001b[0m\u001b[0;34m'r-ent'\u001b[0m\u001b[0;34m)\u001b[0m\u001b[0;34m:\u001b[0m\u001b[0;34m\u001b[0m\u001b[0;34m\u001b[0m\u001b[0m\n\u001b[1;32m      2\u001b[0m   \u001b[0mttle\u001b[0m\u001b[0;34m=\u001b[0m\u001b[0matcl\u001b[0m\u001b[0;34m.\u001b[0m\u001b[0mfind\u001b[0m\u001b[0;34m(\u001b[0m\u001b[0;34m'div'\u001b[0m\u001b[0;34m,\u001b[0m \u001b[0mclass_\u001b[0m\u001b[0;34m=\u001b[0m\u001b[0;34m'title'\u001b[0m\u001b[0;34m)\u001b[0m\u001b[0;34m.\u001b[0m\u001b[0mtext\u001b[0m\u001b[0;34m\u001b[0m\u001b[0;34m\u001b[0m\u001b[0m\n\u001b[0;32m----> 3\u001b[0;31m   \u001b[0mhref\u001b[0m\u001b[0;34m=\u001b[0m\u001b[0;34m'https://www.ptt.cc'\u001b[0m\u001b[0;34m+\u001b[0m\u001b[0matcl\u001b[0m\u001b[0;34m.\u001b[0m\u001b[0mfind\u001b[0m\u001b[0;34m(\u001b[0m\u001b[0;34m'div'\u001b[0m\u001b[0;34m,\u001b[0m \u001b[0mclass_\u001b[0m\u001b[0;34m=\u001b[0m\u001b[0;34m'title'\u001b[0m\u001b[0;34m)\u001b[0m\u001b[0;34m.\u001b[0m\u001b[0ma\u001b[0m\u001b[0;34m.\u001b[0m\u001b[0mget\u001b[0m\u001b[0;34m(\u001b[0m\u001b[0;34m'href'\u001b[0m\u001b[0;34m)\u001b[0m\u001b[0;34m\u001b[0m\u001b[0;34m\u001b[0m\u001b[0m\n\u001b[0m\u001b[1;32m      4\u001b[0m   \u001b[0mdate\u001b[0m\u001b[0;34m=\u001b[0m\u001b[0matcl\u001b[0m\u001b[0;34m.\u001b[0m\u001b[0mfind\u001b[0m\u001b[0;34m(\u001b[0m\u001b[0;34m'div'\u001b[0m\u001b[0;34m,\u001b[0m \u001b[0mclass_\u001b[0m\u001b[0;34m=\u001b[0m\u001b[0;34m'date'\u001b[0m\u001b[0;34m)\u001b[0m\u001b[0;34m.\u001b[0m\u001b[0mtext\u001b[0m\u001b[0;34m\u001b[0m\u001b[0;34m\u001b[0m\u001b[0m\n\u001b[1;32m      5\u001b[0m   \u001b[0mprint\u001b[0m\u001b[0;34m(\u001b[0m\u001b[0mdate\u001b[0m\u001b[0;34m,\u001b[0m \u001b[0mhref\u001b[0m\u001b[0;34m,\u001b[0m \u001b[0mttle\u001b[0m\u001b[0;34m)\u001b[0m\u001b[0;34m\u001b[0m\u001b[0;34m\u001b[0m\u001b[0m\n",
            "\u001b[0;31mAttributeError\u001b[0m: 'NoneType' object has no attribute 'get'"
          ]
        }
      ]
    },
    {
      "cell_type": "code",
      "source": [
        "'https://www.ptt.cc' + soup.find_all('a', class_='btn wide') [1].get('href')"
      ],
      "metadata": {
        "colab": {
          "base_uri": "https://localhost:8080/",
          "height": 35
        },
        "id": "8PUO03PAKn4m",
        "outputId": "ba1540ed-3b38-4353-aa69-65c617f4d9b5"
      },
      "execution_count": 88,
      "outputs": [
        {
          "output_type": "execute_result",
          "data": {
            "text/plain": [
              "'https://www.ptt.cc/bbs/movie/index10615.html'"
            ],
            "application/vnd.google.colaboratory.intrinsic+json": {
              "type": "string"
            }
          },
          "metadata": {},
          "execution_count": 88
        }
      ]
    },
    {
      "cell_type": "code",
      "source": [
        "def get_articles (url):\n",
        "  response=requests.get(url)\n",
        "  soup= BeautifulSoup(response.text,'lxml')\n",
        "  for atcl in soup.find_all('div', class_='r-ent'):\n",
        "    if atcl.find('div', class_=\"title\").a:\n",
        "                      ttle=atcl.find('div', class_='title').a.text\n",
        "                      href='https://www.ptt.cc'+atcl.find('div', class_='title').a.get('href')\n",
        "    else:\n",
        "                      ttle=atcl.find('div', class_='title').text.strip()\n",
        "                      href=''\n",
        "    date=atcl.find('div', class_='date').text\n",
        "    print(date, href, ttle)\n",
        "  url='https://www.ptt.cc' + soup.find_all('a', class_='btn wide')[1].get('href')\n",
        "  return url\n",
        "\n",
        "url = 'https://www.ptt.cc/bbs/Movie/index.html'\n",
        "for i in range(5):\n",
        "  url=get_articles (url)"
      ],
      "metadata": {
        "colab": {
          "base_uri": "https://localhost:8080/"
        },
        "id": "hG1aFKSuNpPV",
        "outputId": "8762c9e1-e9e0-4a94-8067-16f73dc8f50e"
      },
      "execution_count": 108,
      "outputs": [
        {
          "output_type": "stream",
          "name": "stdout",
          "text": [
            " 5/27  (本文已被刪除) [arsl400]\n",
            " 5/27 https://www.ptt.cc/bbs/movie/M.1748276130.A.51A.html Re: [討論] 伊朗可以不斷產出三大影展金獎導演秘訣?\n",
            " 5/27 https://www.ptt.cc/bbs/movie/M.1748278893.A.AC3.html [討論] 不可能的任務 鬼影行動 有機會重映嗎\n",
            " 5/27 https://www.ptt.cc/bbs/movie/M.1748284036.A.99A.html [普雷] 搜查瑠公圳\n",
            " 5/27 https://www.ptt.cc/bbs/movie/M.1748303512.A.6F5.html [問片] 一部美國電影講雜誌 媒體的(有雷)已解\n",
            " 5/27 https://www.ptt.cc/bbs/movie/M.1748309450.A.37D.html [閒聊] 斷電斷網的電影\n",
            " 5/27 https://www.ptt.cc/bbs/movie/M.1748313500.A.47E.html Re: [新聞] 艾迪瑞德曼：【怪獸 4】不太可能開拍\n",
            " 5/27 https://www.ptt.cc/bbs/movie/M.1748315389.A.85E.html [問片] 女主角騎機車的片子\n",
            " 5/27 https://www.ptt.cc/bbs/movie/M.1748316617.A.737.html [新聞] 《F1電影》放映會 專業F1車手先睹為快給評\n",
            " 5/27 https://www.ptt.cc/bbs/movie/M.1748317233.A.D70.html [新聞] 《不可能8》系列評分 觀眾給出第二高\n",
            " 5/27 https://www.ptt.cc/bbs/movie/M.1748318350.A.FD4.html [討論] 臥底(2006)的結局\n",
            " 5/27 https://www.ptt.cc/bbs/movie/M.1748337280.A.189.html [好雷] 《絕命終結站 血脈》\n",
            " 5/27 https://www.ptt.cc/bbs/movie/M.1748338499.A.A56.html [新聞] 《捍衛戰士3》故事圍繞公雞和獨行俠展開\n",
            " 9/04 https://www.ptt.cc/bbs/movie/M.1630756788.A.1FE.html [公告] 電影板板規 2022/12/5\n",
            " 9/15 https://www.ptt.cc/bbs/movie/M.1694784041.A.89F.html [公告] 禁政治版規 及 投票結果\n",
            " 5/26 https://www.ptt.cc/bbs/movie/M.1748246316.A.E2E.html [討論] 有刪減片段的老港片\n",
            " 5/26 https://www.ptt.cc/bbs/movie/M.1748246644.A.814.html [討論] 伊朗可以不斷產出三大影展金獎導演秘訣?\n",
            " 5/26 https://www.ptt.cc/bbs/movie/M.1748250602.A.C2E.html [問片]盲眼學生在生死交界處求生的電影\n",
            " 5/26 https://www.ptt.cc/bbs/movie/M.1748252331.A.E76.html [普好雷] 不可能的任務：最終清算\n",
            " 5/26 https://www.ptt.cc/bbs/movie/M.1748252352.A.91A.html [討論] 不可能的任務7&8 AI相關疑問\n",
            " 5/26 https://www.ptt.cc/bbs/movie/M.1748255193.A.24E.html [請益] 不可能的任務最好看的一集\n",
            " 5/26 https://www.ptt.cc/bbs/movie/M.1748256599.A.44F.html [討論] 葛利馬.巧言,算是魔戒的關鍵人物之一嗎?\n",
            " 5/26 https://www.ptt.cc/bbs/movie/M.1748256868.A.B94.html [討論] 好萊屋怎麼會想出絕命終結站的概念\n",
            " 5/26 https://www.ptt.cc/bbs/movie/M.1748258334.A.31D.html [討論] 為何謝霆鋒沒有成為香港電影的接班人？\n",
            " 5/26 https://www.ptt.cc/bbs/movie/M.1748259033.A.845.html [討論] 阿湯哥豪吃爆米花會浪費嗎?\n",
            " 5/26 https://www.ptt.cc/bbs/movie/M.1748260120.A.D89.html [普好雷] 星際寶貝史迪奇 可以更好\n",
            " 5/26 https://www.ptt.cc/bbs/movie/M.1748260517.A.577.html [討論] 絕命終結站6血脈之阿嬤小屋為何可擋__神?\n",
            " 5/26 https://www.ptt.cc/bbs/movie/M.1748261579.A.0D7.html Re: [討論] 伊朗可以不斷產出三大影展金獎導演秘訣?\n",
            " 5/26 https://www.ptt.cc/bbs/movie/M.1748262458.A.AC7.html Fw: [閒聊] 星際寶貝-史迪奇 劇情雷\n",
            " 5/26 https://www.ptt.cc/bbs/movie/M.1748264330.A.966.html [新聞]盤點歷任「不可能任務情報局」局長！及他\n",
            " 5/26 https://www.ptt.cc/bbs/movie/M.1748269099.A.D50.html [情報]《地下忍者》正式預告 6/20在台上映\n",
            " 5/26 https://www.ptt.cc/bbs/movie/M.1748271039.A.4CB.html [討論] 《不可能的任務8》至少 10 億才能回本！\n",
            " 5/26 https://www.ptt.cc/bbs/movie/M.1748273544.A.C68.html [討論] 今年電影大片真的很多！電影院人潮變多了\n",
            " 5/26 https://www.ptt.cc/bbs/movie/M.1748274614.A.9B9.html [討論] 《蝙蝠俠3》導演剪輯版放映會突遭取消\n",
            " 5/27 https://www.ptt.cc/bbs/movie/M.1748275443.A.123.html [新聞] 戲院播最新《絕命終結站》天花板竟塌下來\n",
            " 5/25 https://www.ptt.cc/bbs/movie/M.1748176827.A.DEB.html [新聞] 真人百獸王《聖戰士》殺青 上映管道、日\n",
            " 5/25 https://www.ptt.cc/bbs/movie/M.1748176850.A.552.html [討論] Mission impossible 系列最愛反派 MI3\n",
            " 5/25 https://www.ptt.cc/bbs/movie/M.1748178480.A.200.html [討論] 香港電影一片死寂？！\n",
            " 5/25 https://www.ptt.cc/bbs/movie/M.1748181895.A.C7E.html [新聞]打造台版福爾摩斯《搜查瑠公圳》還原台灣\n",
            " 5/25 https://www.ptt.cc/bbs/movie/M.1748183476.A.CF1.html [新聞] 史嘉蕾喬韓森樂意當漫威導演\n",
            " 5/25 https://www.ptt.cc/bbs/movie/M.1748183700.A.73C.html [新聞] 喬許哈奈特《戰或飛》爛番茄77%\n",
            " 5/25 https://www.ptt.cc/bbs/movie/M.1748183866.A.5E0.html [討論] 「星期三」演員好像沒提姆波頓就不行了耶\n",
            " 5/25 https://www.ptt.cc/bbs/movie/M.1748184065.A.0B1.html [情報] 5/25 當週7部新片預告+Youtube觀看排行\n",
            " 5/25 https://www.ptt.cc/bbs/movie/M.1748186749.A.2CF.html [討論] 致命清算與最終清算關於「生存體」的問題\n",
            " 5/26 https://www.ptt.cc/bbs/movie/M.1748196174.A.F0C.html [新聞] 本周票房:星際寶貝史迪奇真人版輕鬆3億\n",
            " 5/26 https://www.ptt.cc/bbs/movie/M.1748201541.A.E50.html [普負雷] 《失速機劫》撐不起片長的高概念\n",
            " 5/26 https://www.ptt.cc/bbs/movie/M.1748210442.A.F6E.html [請益] 哪幾部電影值得先看？\n",
            " 5/26 https://www.ptt.cc/bbs/movie/M.1748218556.A.F6C.html Re: [討論] 致命清算與最終清算關於「生存體」的問題\n",
            " 5/26 https://www.ptt.cc/bbs/movie/M.1748220257.A.F7B.html [新聞] 李連杰即將重返大銀幕，袁和平執導 鏢人\n",
            " 5/26 https://www.ptt.cc/bbs/movie/M.1748223045.A.90E.html Re: [普負雷]《不可能的任務：最終清算》遺憾的\n",
            " 5/26 https://www.ptt.cc/bbs/movie/M.1748227879.A.1C3.html [討論] 漫威是不是失算了\n",
            " 5/26 https://www.ptt.cc/bbs/movie/M.1748228484.A.EF9.html [新聞] 《不可能8》勇登全台年度票房冠軍\n",
            " 5/26 https://www.ptt.cc/bbs/movie/M.1748229660.A.AF0.html [普負雷]不可能的任務 最終清算 講武德的AI\n",
            " 5/26 https://www.ptt.cc/bbs/movie/M.1748233917.A.6FF.html Re: [普負雷]不可能的任務 最終清算 講武德的AI\n",
            " 5/26 https://www.ptt.cc/bbs/movie/M.1748242209.A.961.html [討論] 請問史迪奇有DEI元素嗎 可以雷\n",
            " 5/25 https://www.ptt.cc/bbs/movie/M.1748108690.A.8CA.html [好雷] 花束般的戀愛\n",
            " 5/25 https://www.ptt.cc/bbs/movie/M.1748134784.A.EBE.html [] [負雷]不可能的任務有更好的結尾方式嗎？\n",
            " 5/25 https://www.ptt.cc/bbs/movie/M.1748142255.A.B61.html [討論] 其實MI8致敬不少電影\n",
            " 5/25 https://www.ptt.cc/bbs/movie/M.1748148610.A.74D.html [討論] 角頭宇宙的仁哥vs清楓\n",
            " 5/25 https://www.ptt.cc/bbs/movie/M.1748152516.A.9DE.html [討論] 大家最喜歡不可能的任務哪一個反派？\n",
            " 5/25  (本文已被刪除) [dodoro1]\n",
            " 5/25 https://www.ptt.cc/bbs/movie/M.1748155154.A.AC6.html [ 超爽無雷]  絕命終結站 血脈\n",
            " 5/25 https://www.ptt.cc/bbs/movie/M.1748158024.A.86C.html [超好雷] 不可能的任務8  總統的小孩有當兵\n",
            " 5/25 https://www.ptt.cc/bbs/movie/M.1748159219.A.64F.html [新聞] 兩度入獄、遭禁拍電影後奪金棕櫚獎 導演：「獻給無法工作的\n",
            " 5/25 https://www.ptt.cc/bbs/movie/M.1748159586.A.2FC.html [好雷] Re: [普負雷]《不可能的任務：最終清算》遺憾的終章\n",
            " 5/25 https://www.ptt.cc/bbs/movie/M.1748160323.A.1B3.html [好雷] 不可能的任務8最終清算 最後有哭嗎\n",
            " 5/25 https://www.ptt.cc/bbs/movie/M.1748160357.A.8E5.html Re: [新聞] 《看不見的國家》貼身紀錄蔡英文 導演葛\n",
            " 5/25 https://www.ptt.cc/bbs/movie/M.1748161767.A.F17.html [請益] 不可能的任務：為何不能直接殺死病毒？\n",
            " 5/25 https://www.ptt.cc/bbs/movie/M.1748164338.A.536.html [問片] 女主角是瘖啞人(有部分劇情)\n",
            " 5/25 https://www.ptt.cc/bbs/movie/M.1748168227.A.2FF.html Re: [討論] MI 系列如果出一個退休生活做總結會好嗎?\n",
            " 5/25 https://www.ptt.cc/bbs/movie/M.1748170897.A.EAE.html [討論] 派翠克威爾森算是有紅嗎??\n",
            " 5/25 https://www.ptt.cc/bbs/movie/M.1748171809.A.B2B.html [新聞]張世《搜查瑠公圳》蒙冤下場慘！將軍原型\n",
            " 5/25 https://www.ptt.cc/bbs/movie/M.1748172401.A.4D4.html [好雷] 絕命終結站 血脈\n",
            " 5/25 https://www.ptt.cc/bbs/movie/M.1748172781.A.748.html [討論] 《絕命終結站6:血脈》\n",
            " 5/25 https://www.ptt.cc/bbs/movie/M.1748173520.A.841.html [討論] 絕命終結站6 預計6/17 數位平台上架\n",
            " 5/24 https://www.ptt.cc/bbs/movie/M.1748078767.A.BCC.html [LIVE] HBO 21:00 魔戒：洛汗人之戰\n",
            " 5/24 https://www.ptt.cc/bbs/movie/M.1748083414.A.3F1.html [討論] 不可能的任務系列名場面\n",
            " 5/24 https://www.ptt.cc/bbs/movie/M.1748084640.A.213.html [新聞] 真人版《星際寶貝》剛上映！續集已醞釀中\n",
            " 5/24 https://www.ptt.cc/bbs/movie/M.1748084675.A.CCD.html [討論] X戰警重啟選角！辛西婭艾利沃出演暴風女\n",
            " 5/24 https://www.ptt.cc/bbs/movie/M.1748084805.A.9BB.html [新聞]萊恩雷諾斯計劃拍R級《星際大戰》作品！坦\n",
            " 5/24 https://www.ptt.cc/bbs/movie/M.1748085009.A.D2C.html [討論] MI 系列如果出一個退休生活做總結會好嗎?\n",
            " 5/24 https://www.ptt.cc/bbs/movie/M.1748086901.A.7C2.html Re: [請益] 星際效應 米勒星相關疑問\n",
            " 5/24 https://www.ptt.cc/bbs/movie/M.1748087310.A.945.html [新聞] 陸33億名導來台吃「超難訂麻辣鍋」　一入\n",
            " 5/24 https://www.ptt.cc/bbs/movie/M.1748092443.A.88B.html [請益] 電影院遇到偷拍仔如何處理？\n",
            " 5/24 https://www.ptt.cc/bbs/movie/M.1748092757.A.8AF.html [情報] 2025 坎城影展 平行單元 得獎名單\n",
            " 5/24 https://www.ptt.cc/bbs/movie/M.1748095720.A.BFF.html [LIVE] 木棉花-蠟筆小新【風起雲湧的叢林冒險】\n",
            " 5/24 https://www.ptt.cc/bbs/movie/M.1748096249.A.66C.html [好雷]《不可能的任務：最終清算》給予世界所需的老派浪漫\n",
            " 5/24 https://www.ptt.cc/bbs/movie/M.1748096307.A.62F.html [情報] 2025 坎城影展 費比西影評人獎 得獎名單\n",
            " 5/24 https://www.ptt.cc/bbs/movie/M.1748098496.A.408.html [新聞] 麥可傑克森傳記片「拆兩集」延期上映\n",
            " 5/24 https://www.ptt.cc/bbs/movie/M.1748099248.A.B23.html [新聞] 張世一演入魂！《搜查瑠公圳》全台上映再\n",
            " 5/24 https://www.ptt.cc/bbs/movie/M.1748099305.A.7E1.html [討論] 老萊塢明星普遍對社群媒體採保守態度?\n",
            " 5/24 https://www.ptt.cc/bbs/movie/M.1748099846.A.E1A.html [新聞] 《看不見的國家》貼身紀錄蔡英文 導演葛\n",
            " 5/24 https://www.ptt.cc/bbs/movie/M.1748101197.A.B13.html [討論] 2025 坎城影展 頒獎典禮&場刊分數 \n",
            " 5/25 https://www.ptt.cc/bbs/movie/M.1748107188.A.3C0.html [普負雷]《不可能的任務：最終清算》遺憾的終章\n",
            " 5/25 https://www.ptt.cc/bbs/movie/M.1748108383.A.2BF.html [情報] 2025 坎城影展 完整得獎名單\n"
          ]
        }
      ]
    }
  ]
}