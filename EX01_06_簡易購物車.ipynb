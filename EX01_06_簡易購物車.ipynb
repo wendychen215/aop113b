{
  "nbformat": 4,
  "nbformat_minor": 0,
  "metadata": {
    "colab": {
      "provenance": [],
      "authorship_tag": "ABX9TyP+QIRxpDCaf8p6HqzcCXTe",
      "include_colab_link": true
    },
    "kernelspec": {
      "name": "python3",
      "display_name": "Python 3"
    },
    "language_info": {
      "name": "python"
    }
  },
  "cells": [
    {
      "cell_type": "markdown",
      "metadata": {
        "id": "view-in-github",
        "colab_type": "text"
      },
      "source": [
        "<a href=\"https://colab.research.google.com/github/wendychen215/aop113b/blob/main/EX01_06_%E7%B0%A1%E6%98%93%E8%B3%BC%E7%89%A9%E8%BB%8A.ipynb\" target=\"_parent\"><img src=\"https://colab.research.google.com/assets/colab-badge.svg\" alt=\"Open In Colab\"/></a>"
      ]
    },
    {
      "cell_type": "code",
      "source": [
        "from IPython.display import clear_output\n",
        "shopping=[]\n",
        "products={ \"apple\": 25, \"banana\": 12, \"cherry\": 30 }\n",
        "while True :\n",
        "  clear_output()\n",
        "  print(\"商品欄:apple/25, banana/12, cherry/30\")\n",
        "  print(\"功能列:1.加入商品;2.移除商品;3.結帳;4.離開\")\n",
        "  print(\"購物車\",shopping)\n",
        "  ply=input()\n",
        "  mode=int(ply[0])\n",
        "  thing=ply[1:]\n",
        "  if mode == 4 :\n",
        "    print(\"謝謝光臨\\n下次見\")\n",
        "    break\n",
        "  elif mode == 3 :\n",
        "    print(\"結帳成功\")\n",
        "    print(\"購物車\",shopping)\n",
        "    tt=0\n",
        "    for i in shopping :\n",
        "      tt=tt+int(products[i])\n",
        "    print(\"總金額\",tt)\n",
        "    print(\"謝謝光臨\\n下次見\")\n",
        "    break\n",
        "  elif mode == 2 :\n",
        "    shopping.remove(thing)\n",
        "    print(\"購物車\",shopping)\n",
        "  elif mode == 1 :\n",
        "    shopping.append(thing)\n",
        "    print(\"購物車\",shopping)\n",
        "  else :\n",
        "    print(\"無此功能\")"
      ],
      "metadata": {
        "id": "zI8bxndcMeIa"
      },
      "execution_count": null,
      "outputs": []
    }
  ]
}