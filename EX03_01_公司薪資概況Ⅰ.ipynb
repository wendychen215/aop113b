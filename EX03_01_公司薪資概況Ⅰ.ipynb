{
  "nbformat": 4,
  "nbformat_minor": 0,
  "metadata": {
    "colab": {
      "provenance": [],
      "authorship_tag": "ABX9TyO2nDyyYkJ6xlQ6q9G0XHIi",
      "include_colab_link": true
    },
    "kernelspec": {
      "name": "python3",
      "display_name": "Python 3"
    },
    "language_info": {
      "name": "python"
    }
  },
  "cells": [
    {
      "cell_type": "markdown",
      "metadata": {
        "id": "view-in-github",
        "colab_type": "text"
      },
      "source": [
        "<a href=\"https://colab.research.google.com/github/wendychen215/aop113b/blob/main/EX03_01_%E5%85%AC%E5%8F%B8%E8%96%AA%E8%B3%87%E6%A6%82%E6%B3%81%E2%85%A0.ipynb\" target=\"_parent\"><img src=\"https://colab.research.google.com/assets/colab-badge.svg\" alt=\"Open In Colab\"/></a>"
      ]
    },
    {
      "cell_type": "code",
      "execution_count": null,
      "metadata": {
        "id": "pkvquRmUW37-"
      },
      "outputs": [],
      "source": [
        "import pandas as pd\n",
        "data = {\n",
        "    'ID': [101, 102, 103, 104, 105, 106, 107, 108, 109, 110],\n",
        "    'Name': ['Alice', 'Bob', 'Charlie', 'David', 'Eve', 'Frank', 'Grace', 'Helen', 'Ivy', 'Jack'],\n",
        "    'Age': [125, 30, 35, 40, 22, 29, 38, 27, 33, 31],\n",
        "    'City': ['New York', 'Los Angeles', 'Chicago', 'Houston', 'Phoenix', 'Philadelphia', 'San Antonio', 'San Diego', 'Dallas', 'San Jose'],\n",
        "    'Salary': [150000, 60000, 75000, 80000, 45000, 62000, 72000, 58000, 69000, 71800],\n",
        "    'Department': ['IT', 'HR', 'Finance', 'Harketing', 'IT', 'HR', 'Finance', 'Marketing', 'IT', 'Finance']\n",
        "}\n",
        "\n",
        "df=pd.DataFrame(data)\n",
        "df"
      ]
    },
    {
      "cell_type": "markdown",
      "source": [
        "取得name，salary兩欄資料"
      ],
      "metadata": {
        "id": "CNfQwPx-Y7nD"
      }
    },
    {
      "cell_type": "code",
      "source": [
        "df[['Name', 'Salary']]"
      ],
      "metadata": {
        "id": "ZpsuAy9DX8N7"
      },
      "execution_count": null,
      "outputs": []
    },
    {
      "cell_type": "markdown",
      "source": [
        "取索引值5-8四筆資料"
      ],
      "metadata": {
        "id": "6wtQzCrIYyl8"
      }
    },
    {
      "cell_type": "code",
      "source": [
        "df.loc[5:8]"
      ],
      "metadata": {
        "id": "aOXMOZW5YHei"
      },
      "execution_count": null,
      "outputs": []
    },
    {
      "cell_type": "code",
      "source": [
        "df.iloc[5:9]"
      ],
      "metadata": {
        "id": "DNetjPwCYXTz"
      },
      "execution_count": null,
      "outputs": []
    },
    {
      "cell_type": "markdown",
      "source": [
        "找出年齡和薪水都高於平均值的人員"
      ],
      "metadata": {
        "id": "yV2oXOBcZBf7"
      }
    },
    {
      "cell_type": "code",
      "source": [
        "avg_age=df['Age'].mean()\n",
        "avg_salary = df['Salary'].mean()\n",
        "df[(df['Age'] > avg_age) & (df['Salary'] > avg_salary)]"
      ],
      "metadata": {
        "id": "F4afCrqQZC2D"
      },
      "execution_count": null,
      "outputs": []
    },
    {
      "cell_type": "markdown",
      "source": [
        "請問公司人員的平均薪水、及最高、最低薪水、中位數?"
      ],
      "metadata": {
        "id": "RKKYv_IxZXsT"
      }
    },
    {
      "cell_type": "code",
      "source": [
        "print(df['Salary'].mean(), df['Salary'].max(), df['Salary'].min(), df['Salary'].median())"
      ],
      "metadata": {
        "id": "1KWeCs_yZZtq"
      },
      "execution_count": null,
      "outputs": []
    },
    {
      "cell_type": "markdown",
      "source": [
        "公司共有幾個部門?"
      ],
      "metadata": {
        "id": "geJimsbeZg8K"
      }
    },
    {
      "cell_type": "code",
      "source": [
        "df[ 'Department'].unique()"
      ],
      "metadata": {
        "id": "4ukTrdWAZiJB"
      },
      "execution_count": null,
      "outputs": []
    },
    {
      "cell_type": "markdown",
      "source": [
        "那個部門薪水最高?那個部門最年輕?"
      ],
      "metadata": {
        "id": "_xD-hyCMZqz5"
      }
    },
    {
      "cell_type": "code",
      "source": [
        "#薪水最高\n",
        "print(df.groupby('Department') ['Salary'].mean().idxmax(), df.groupby('Department') ['Salary'].mean().max())\n",
        "#最年輕\n",
        "print(df.groupby('Department')['Age'].mean().idxmin(), df.groupby('Department') ['Age'].mean().min())"
      ],
      "metadata": {
        "id": "7bVSrIkRZqPJ"
      },
      "execution_count": null,
      "outputs": []
    },
    {
      "cell_type": "markdown",
      "source": [
        "年齡是否與薪資有關?"
      ],
      "metadata": {
        "id": "q2Qv6l9QaADR"
      }
    },
    {
      "cell_type": "code",
      "source": [
        "corr_matrix = df[['Age', 'Salary']].corr()\n",
        "corr_matrix"
      ],
      "metadata": {
        "id": "CfvjZCNYaELh"
      },
      "execution_count": null,
      "outputs": []
    }
  ]
}