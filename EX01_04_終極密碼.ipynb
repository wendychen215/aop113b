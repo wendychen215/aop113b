{
  "nbformat": 4,
  "nbformat_minor": 0,
  "metadata": {
    "colab": {
      "provenance": [],
      "authorship_tag": "ABX9TyNbRwYS5WGQYamEhFw7Mq4o",
      "include_colab_link": true
    },
    "kernelspec": {
      "name": "python3",
      "display_name": "Python 3"
    },
    "language_info": {
      "name": "python"
    }
  },
  "cells": [
    {
      "cell_type": "markdown",
      "metadata": {
        "id": "view-in-github",
        "colab_type": "text"
      },
      "source": [
        "<a href=\"https://colab.research.google.com/github/wendychen215/aop113b/blob/main/EX01_04_%E7%B5%82%E6%A5%B5%E5%AF%86%E7%A2%BC.ipynb\" target=\"_parent\"><img src=\"https://colab.research.google.com/assets/colab-badge.svg\" alt=\"Open In Colab\"/></a>"
      ]
    },
    {
      "cell_type": "code",
      "execution_count": 25,
      "metadata": {
        "colab": {
          "base_uri": "https://localhost:8080/"
        },
        "id": "Zx6C7fVc2f87",
        "outputId": "7405ffd3-5a6f-4dc4-dbc4-95a977d62a00"
      },
      "outputs": [
        {
          "output_type": "stream",
          "name": "stdout",
          "text": [
            "0 - 100\n",
            "gress:20\n",
            "0 - 20\n",
            "gress:23\n",
            "超出範圍啦!!!!\n",
            "0 - 20\n",
            "gress:11\n",
            "11 - 20\n",
            "gress:12\n",
            "12 - 20\n",
            "gress:13\n",
            "猜中\n"
          ]
        }
      ],
      "source": [
        "import random\n",
        "mm=random.randint(1,99)\n",
        "max=100\n",
        "min=0\n",
        "while True:\n",
        "  print(min,\"-\",max)\n",
        "  ply=int(input(\"gress:\"))\n",
        "  if ply>max or ply<min:\n",
        "    print(\"超出範圍啦!!!!\")\n",
        "  elif ply>mm:\n",
        "    max=ply\n",
        "  elif ply<mm:\n",
        "    min=ply\n",
        "  else:\n",
        "    print(\"猜中!!!!!!!!!!!!!\")\n",
        "    break\n",
        "\n",
        "\n",
        "\n",
        "\n",
        "\n"
      ]
    }
  ]
}