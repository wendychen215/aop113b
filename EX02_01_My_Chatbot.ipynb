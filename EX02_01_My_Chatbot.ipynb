{
  "nbformat": 4,
  "nbformat_minor": 0,
  "metadata": {
    "colab": {
      "provenance": [],
      "include_colab_link": true
    },
    "kernelspec": {
      "name": "python3",
      "display_name": "Python 3"
    },
    "language_info": {
      "name": "python"
    }
  },
  "cells": [
    {
      "cell_type": "markdown",
      "metadata": {
        "id": "view-in-github",
        "colab_type": "text"
      },
      "source": [
        "<a href=\"https://colab.research.google.com/github/wendychen215/aop113b/blob/main/EX02_01_My_Chatbot.ipynb\" target=\"_parent\"><img src=\"https://colab.research.google.com/assets/colab-badge.svg\" alt=\"Open In Colab\"/></a>"
      ]
    },
    {
      "cell_type": "code",
      "execution_count": null,
      "metadata": {
        "colab": {
          "base_uri": "https://localhost:8080/",
          "height": 325
        },
        "id": "5bInQo0VR617",
        "outputId": "7e420dda-99bb-4c9c-89f1-e67625973d8c"
      },
      "outputs": [
        {
          "output_type": "stream",
          "name": "stdout",
          "text": [
            "You: hi\n",
            "Bot:\n"
          ]
        },
        {
          "output_type": "display_data",
          "data": {
            "text/plain": [
              "<IPython.core.display.Markdown object>"
            ],
            "text/markdown": "Hi there! How can I help you today?\n"
          },
          "metadata": {}
        },
        {
          "output_type": "stream",
          "name": "stdout",
          "text": [
            "You: hows the weather today\n",
            "Bot:\n"
          ]
        },
        {
          "output_type": "display_data",
          "data": {
            "text/plain": [
              "<IPython.core.display.Markdown object>"
            ],
            "text/markdown": "I don't have information about the current weather. To get the most up-to-date weather information, I recommend checking a reliable weather app or website like:\n\n*   **Google Weather:** Just search \"weather\" on Google.\n*   **AccuWeather:** [https://www.accuweather.com/](https://www.accuweather.com/)\n*   **The Weather Channel:** [https://weather.com/](https://weather.com/)\n\nIf you tell me your location (city, state, or zip code), I can try to find the weather for you using a search engine, but it's still best to check a dedicated weather source for the most accurate information.\n"
          },
          "metadata": {}
        },
        {
          "output_type": "stream",
          "name": "stdout",
          "text": [
            "You: got it\n",
            "Bot:\n"
          ]
        },
        {
          "output_type": "display_data",
          "data": {
            "text/plain": [
              "<IPython.core.display.Markdown object>"
            ],
            "text/markdown": "Great! Is there anything else I can help you with?\n"
          },
          "metadata": {}
        },
        {
          "name": "stdout",
          "output_type": "stream",
          "text": [
            "You: bye\n"
          ]
        }
      ],
      "source": [
        "from google.colab import userdata\n",
        "from IPython.display import Markdown, display\n",
        "import google.generativeai as genai\n",
        "genai.configure(api_key = userdata.get(\"apikey\"))\n",
        "generation_config = {\n",
        "    \"temperature\": 0.5,\n",
        "    \"max_output_tokens\": 256,\n",
        "    \"candidate_count\": 1,\n",
        "}\n",
        "model = genai.GenerativeModel(\n",
        "    model_name = \"gemini-2.0-flash\",\n",
        "    generation_config = generation_config\n",
        ")\n",
        "chat = model.start_chat(history = [])\n",
        "while True:\n",
        "  message = input(\"You: \")\n",
        "  if message == \"bye\":\n",
        "    break\n",
        "  response = chat.send_message(message)\n",
        "  print(\"Bot:\")\n",
        "  display(Markdown(response.text))"
      ]
    }
  ]
}